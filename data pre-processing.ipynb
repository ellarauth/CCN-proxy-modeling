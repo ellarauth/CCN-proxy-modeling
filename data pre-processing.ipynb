{
 "cells": [
  {
   "cell_type": "code",
   "execution_count": 1,
   "metadata": {},
   "outputs": [],
   "source": [
    "import pandas as pd\n",
    "import numpy as np\n",
    "import matplotlib.pyplot as plt\n",
    "from datetime import timedelta"
   ]
  },
  {
   "cell_type": "code",
   "execution_count": 3,
   "metadata": {},
   "outputs": [],
   "source": [
    "cities = ['ABZ', 'ALE', 'AMA', 'AMM', 'ASP', 'BEI', 'BOT', 'BSL', 'DEL', 'EGB',\n",
    "          'HAD', 'HEL', 'HPB', 'HYY', 'KCE', 'KPZ', 'MAR', 'MHD', 'MLP', 'MUK', \n",
    "          'NAN', 'NEU', 'POV', 'SAO', 'SCH', 'SGP', 'UAE', 'VAR', 'VIE', 'WAL', \n",
    "          'ZOT']"
   ]
  },
  {
   "cell_type": "code",
   "execution_count": 86,
   "metadata": {},
   "outputs": [],
   "source": [
    "def combine_datasets(folder):\n",
    "    full_df = []\n",
    "\n",
    "    for c in cities:\n",
    "        df = pd.read_csv('data/'+folder+'/'+c+'.csv')\n",
    "        df['station'] = c\n",
    "        full_df.append(df)\n",
    "\n",
    "    full_df = pd.concat(full_df)\n",
    "    full_df = full_df.reset_index(drop=True)\n",
    "    \n",
    "    return full_df"
   ]
  },
  {
   "cell_type": "code",
   "execution_count": 87,
   "metadata": {},
   "outputs": [],
   "source": [
    "aerosols_df = combine_datasets('aerosols')\n",
    "aerosols_df = aerosols_df[['station', 'date', 'latitude', 'longitude',\n",
    "                           'aermr01', 'aermr02', 'aermr03','aermr04', 'aermr05',\n",
    "                           'aermr06', 'aermr07', 'aermr08',  'aermr09', 'aermr10', 'aermr11']]\n",
    "\n",
    "aerosols_df.to_csv('data/aerosols_data.csv', index=False)"
   ]
  },
  {
   "cell_type": "code",
   "execution_count": 88,
   "metadata": {},
   "outputs": [],
   "source": [
    "atmospheric_df = combine_datasets('atmospheric')\n",
    "atmospheric_df = atmospheric_df[['station', 'date', 'latitude', 'longitude', \n",
    "                                 'd2m', 't2m']]\n",
    "\n",
    "atmospheric_df.to_csv('data/atomospheric_data.csv', index=False)"
   ]
  },
  {
   "cell_type": "code",
   "execution_count": 89,
   "metadata": {},
   "outputs": [],
   "source": [
    "boundary_layer_height_df = combine_datasets('boundary_layer_height')\n",
    "boundary_layer_height_df = boundary_layer_height_df[['station', 'date', 'latitude', 'longitude', \n",
    "                                                     'blh']]\n",
    "\n",
    "boundary_layer_height_df.to_csv('data/boundary_layer_height_data.csv', index=False)"
   ]
  },
  {
   "cell_type": "code",
   "execution_count": 90,
   "metadata": {},
   "outputs": [],
   "source": [
    "gases_df = combine_datasets('gases')\n",
    "gases_df = gases_df[['station', 'date', 'latitude', 'longitude', \n",
    "                     'co', 'c5h8', 'no2', 'no', 'so2']]\n",
    "\n",
    "gases_df.to_csv('data/gases_data.csv', index=False)"
   ]
  },
  {
   "cell_type": "code",
   "execution_count": 93,
   "metadata": {},
   "outputs": [],
   "source": [
    "slow_access_df = combine_datasets('slow_access')\n",
    "slow_access_df = slow_access_df[['station', 'date', 'latitude', 'longitude', \n",
    "                                 'nh3', 'crwc', 'c10h16']]\n",
    "\n",
    "slow_access_df.to_csv('data/slow_access_data.csv', index=False)"
   ]
  },
  {
   "cell_type": "code",
   "execution_count": 178,
   "metadata": {},
   "outputs": [],
   "source": [
    "n100_df = []\n",
    "\n",
    "for c in cities[:5]:\n",
    "    df = pd.read_table('data/N100_proxy/'+c+'_N100.dat', sep='\\s+', \n",
    "                       names=['year', 'month', 'day', 'hour', 'minute', 'n100'])\n",
    "    \n",
    "    df['date'] = pd.to_datetime(df[['year', 'month', 'day']])\n",
    "    \n",
    "    if c == 'AMA':\n",
    "        df['time'] = pd.to_datetime(df[['year', 'month', 'day', 'hour', 'minute']])\n",
    "        df.time -= timedelta(hours=4)\n",
    "        df = df.drop(columns='time')\n",
    "    \n",
    "    df = df.groupby('date', as_index=False).mean()\n",
    "    df.date = df.date.dt.date\n",
    "    df['station'] = c\n",
    "    n100_df.append(df)\n",
    "\n",
    "n100_df = pd.concat(n100_df)\n",
    "n100_df = n100_df.reset_index(drop=True)\n",
    "n100_df = n100_df[['station', 'date', 'n100']]\n",
    "n100_df.to_csv('data/n100_data.csv', index=False)"
   ]
  }
 ],
 "metadata": {
  "kernelspec": {
   "display_name": "Python 3",
   "language": "python",
   "name": "python3"
  },
  "language_info": {
   "codemirror_mode": {
    "name": "ipython",
    "version": 3
   },
   "file_extension": ".py",
   "mimetype": "text/x-python",
   "name": "python",
   "nbconvert_exporter": "python",
   "pygments_lexer": "ipython3",
   "version": "3.8.5"
  }
 },
 "nbformat": 4,
 "nbformat_minor": 4
}
